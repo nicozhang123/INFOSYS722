{
 "cells": [
  {
   "cell_type": "markdown",
   "metadata": {},
   "source": [
    "# Linear Regression"
   ]
  },
  {
   "cell_type": "markdown",
   "metadata": {},
   "source": [
    "## 2. Data Understanding"
   ]
  },
  {
   "cell_type": "code",
   "execution_count": 1,
   "metadata": {},
   "outputs": [
    {
     "name": "stderr",
     "output_type": "stream",
     "text": [
      "WARNING: An illegal reflective access operation has occurred\n",
      "WARNING: Illegal reflective access by org.apache.spark.unsafe.Platform (file:/home/ubuntu/spark-3.2.1-bin-hadoop2.7/jars/spark-unsafe_2.12-3.2.1.jar) to constructor java.nio.DirectByteBuffer(long,int)\n",
      "WARNING: Please consider reporting this to the maintainers of org.apache.spark.unsafe.Platform\n",
      "WARNING: Use --illegal-access=warn to enable warnings of further illegal reflective access operations\n",
      "WARNING: All illegal access operations will be denied in a future release\n",
      "Using Spark's default log4j profile: org/apache/spark/log4j-defaults.properties\n",
      "Setting default log level to \"WARN\".\n",
      "To adjust logging level use sc.setLogLevel(newLevel). For SparkR, use setLogLevel(newLevel).\n",
      "23/10/11 08:05:45 WARN NativeCodeLoader: Unable to load native-hadoop library for your platform... using builtin-java classes where applicable\n",
      "23/10/11 08:05:47 WARN Utils: Service 'SparkUI' could not bind on port 4040. Attempting port 4041.\n"
     ]
    }
   ],
   "source": [
    "# Must be included at the beginning of each new notebook. Remember to change the app name.\n",
    "import findspark\n",
    "findspark.init('/home/ubuntu/spark-3.2.1-bin-hadoop2.7')\n",
    "import pyspark\n",
    "from pyspark.sql import SparkSession\n",
    "spark = SparkSession.builder.appName('basics').getOrCreate()"
   ]
  },
  {
   "cell_type": "code",
   "execution_count": 2,
   "metadata": {},
   "outputs": [
    {
     "name": "stdout",
     "output_type": "stream",
     "text": [
      "Defaulting to user installation because normal site-packages is not writeable\n",
      "Requirement already satisfied: scikit-learn in /home/ubuntu/.local/lib/python3.10/site-packages (1.3.1)\n",
      "Requirement already satisfied: threadpoolctl>=2.0.0 in /home/ubuntu/.local/lib/python3.10/site-packages (from scikit-learn) (3.2.0)\n",
      "Requirement already satisfied: numpy<2.0,>=1.17.3 in /home/ubuntu/.local/lib/python3.10/site-packages (from scikit-learn) (1.22.4)\n",
      "Requirement already satisfied: scipy>=1.5.0 in /home/ubuntu/.local/lib/python3.10/site-packages (from scikit-learn) (1.8.1)\n",
      "Requirement already satisfied: joblib>=1.1.1 in /home/ubuntu/.local/lib/python3.10/site-packages (from scikit-learn) (1.3.2)\n",
      "Defaulting to user installation because normal site-packages is not writeable\n",
      "Requirement already satisfied: numpy in /home/ubuntu/.local/lib/python3.10/site-packages (1.22.4)\n",
      "Defaulting to user installation because normal site-packages is not writeable\n",
      "Requirement already satisfied: sweetviz in /home/ubuntu/.local/lib/python3.10/site-packages (2.2.1)\n",
      "Requirement already satisfied: matplotlib>=3.1.3 in /home/ubuntu/.local/lib/python3.10/site-packages (from sweetviz) (3.5.2)\n",
      "Requirement already satisfied: jinja2>=2.11.1 in /usr/lib/python3/dist-packages (from sweetviz) (3.0.3)\n",
      "Requirement already satisfied: scipy>=1.3.2 in /home/ubuntu/.local/lib/python3.10/site-packages (from sweetviz) (1.8.1)\n",
      "Requirement already satisfied: tqdm>=4.43.0 in /home/ubuntu/.local/lib/python3.10/site-packages (from sweetviz) (4.66.1)\n",
      "Requirement already satisfied: importlib-resources>=1.2.0 in /home/ubuntu/.local/lib/python3.10/site-packages (from sweetviz) (6.1.0)\n",
      "Requirement already satisfied: numpy>=1.16.0 in /home/ubuntu/.local/lib/python3.10/site-packages (from sweetviz) (1.22.4)\n",
      "Requirement already satisfied: pandas!=1.0.0,!=1.0.1,!=1.0.2,>=0.25.3 in /home/ubuntu/.local/lib/python3.10/site-packages (from sweetviz) (1.4.2)\n",
      "Requirement already satisfied: cycler>=0.10 in /home/ubuntu/.local/lib/python3.10/site-packages (from matplotlib>=3.1.3->sweetviz) (0.11.0)\n",
      "Requirement already satisfied: pillow>=6.2.0 in /home/ubuntu/.local/lib/python3.10/site-packages (from matplotlib>=3.1.3->sweetviz) (9.1.1)\n",
      "Requirement already satisfied: packaging>=20.0 in /home/ubuntu/.local/lib/python3.10/site-packages (from matplotlib>=3.1.3->sweetviz) (21.3)\n",
      "Requirement already satisfied: fonttools>=4.22.0 in /home/ubuntu/.local/lib/python3.10/site-packages (from matplotlib>=3.1.3->sweetviz) (4.33.3)\n",
      "Requirement already satisfied: pyparsing>=2.2.1 in /usr/lib/python3/dist-packages (from matplotlib>=3.1.3->sweetviz) (2.4.7)\n",
      "Requirement already satisfied: python-dateutil>=2.7 in /home/ubuntu/.local/lib/python3.10/site-packages (from matplotlib>=3.1.3->sweetviz) (2.8.2)\n",
      "Requirement already satisfied: kiwisolver>=1.0.1 in /home/ubuntu/.local/lib/python3.10/site-packages (from matplotlib>=3.1.3->sweetviz) (1.4.2)\n",
      "Requirement already satisfied: pytz>=2020.1 in /usr/lib/python3/dist-packages (from pandas!=1.0.0,!=1.0.1,!=1.0.2,>=0.25.3->sweetviz) (2022.1)\n",
      "Requirement already satisfied: six>=1.5 in /usr/lib/python3/dist-packages (from python-dateutil>=2.7->matplotlib>=3.1.3->sweetviz) (1.16.0)\n"
     ]
    }
   ],
   "source": [
    "!pip install scikit-learn\n",
    "!pip install numpy\n",
    "!pip install sweetviz\n",
    "import matplotlib.pyplot as plt\n",
    "import pandas as pd\n",
    "import pylab as pl\n",
    "import numpy as np\n",
    "%matplotlib inline\n",
    "from sklearn import linear_model\n",
    "regr = linear_model.LinearRegression()"
   ]
  },
  {
   "cell_type": "markdown",
   "metadata": {},
   "source": [
    "<h3 id=\"understanding_data\">Understanding the Data</h3>"
   ]
  },
  {
   "cell_type": "code",
   "execution_count": 3,
   "metadata": {},
   "outputs": [
    {
     "name": "stdout",
     "output_type": "stream",
     "text": [
      "/home/ubuntu/Machine-Learning-with-Python-and-Spark/Linear-Regression\n"
     ]
    },
    {
     "data": {
      "text/html": [
       "<div>\n",
       "<style scoped>\n",
       "    .dataframe tbody tr th:only-of-type {\n",
       "        vertical-align: middle;\n",
       "    }\n",
       "\n",
       "    .dataframe tbody tr th {\n",
       "        vertical-align: top;\n",
       "    }\n",
       "\n",
       "    .dataframe thead th {\n",
       "        text-align: right;\n",
       "    }\n",
       "</style>\n",
       "<table border=\"1\" class=\"dataframe\">\n",
       "  <thead>\n",
       "    <tr style=\"text-align: right;\">\n",
       "      <th></th>\n",
       "      <th>Name</th>\n",
       "      <th>WHO Region</th>\n",
       "      <th>Cases - cumulative total</th>\n",
       "      <th>Cases - cumulative total per 100000 population</th>\n",
       "      <th>Cases - newly reported in last 7 days</th>\n",
       "      <th>Cases - newly reported in last 7 days per 100000 population</th>\n",
       "      <th>Cases - newly reported in last 24 hours</th>\n",
       "      <th>Deaths - cumulative total</th>\n",
       "      <th>Deaths - cumulative total per 100000 population</th>\n",
       "      <th>Deaths - newly reported in last 7 days</th>\n",
       "      <th>Deaths - newly reported in last 7 days per 100000 population</th>\n",
       "      <th>Deaths - newly reported in last 24 hours</th>\n",
       "    </tr>\n",
       "  </thead>\n",
       "  <tbody>\n",
       "    <tr>\n",
       "      <th>Global</th>\n",
       "      <td>NaN</td>\n",
       "      <td>769369823</td>\n",
       "      <td>9870.624662</td>\n",
       "      <td>34812</td>\n",
       "      <td>0.44662</td>\n",
       "      <td>0</td>\n",
       "      <td>6954336</td>\n",
       "      <td>89.220604</td>\n",
       "      <td>147</td>\n",
       "      <td>0.001886</td>\n",
       "      <td>0</td>\n",
       "      <td>NaN</td>\n",
       "    </tr>\n",
       "    <tr>\n",
       "      <th>United States of America</th>\n",
       "      <td>Americas</td>\n",
       "      <td>103436829</td>\n",
       "      <td>31249.547000</td>\n",
       "      <td>0</td>\n",
       "      <td>0.00000</td>\n",
       "      <td>0</td>\n",
       "      <td>1127152</td>\n",
       "      <td>340.527000</td>\n",
       "      <td>0</td>\n",
       "      <td>0.000000</td>\n",
       "      <td>0</td>\n",
       "      <td>NaN</td>\n",
       "    </tr>\n",
       "    <tr>\n",
       "      <th>China</th>\n",
       "      <td>Western Pacific</td>\n",
       "      <td>99300923</td>\n",
       "      <td>6749.256000</td>\n",
       "      <td>553</td>\n",
       "      <td>0.03800</td>\n",
       "      <td>0</td>\n",
       "      <td>121628</td>\n",
       "      <td>8.267000</td>\n",
       "      <td>0</td>\n",
       "      <td>0.000000</td>\n",
       "      <td>0</td>\n",
       "      <td>NaN</td>\n",
       "    </tr>\n",
       "  </tbody>\n",
       "</table>\n",
       "</div>"
      ],
      "text/plain": [
       "                                     Name  WHO Region  \\\n",
       "Global                                NaN   769369823   \n",
       "United States of America         Americas   103436829   \n",
       "China                     Western Pacific    99300923   \n",
       "\n",
       "                          Cases - cumulative total  \\\n",
       "Global                                 9870.624662   \n",
       "United States of America              31249.547000   \n",
       "China                                  6749.256000   \n",
       "\n",
       "                          Cases - cumulative total per 100000 population  \\\n",
       "Global                                                             34812   \n",
       "United States of America                                               0   \n",
       "China                                                                553   \n",
       "\n",
       "                          Cases - newly reported in last 7 days  \\\n",
       "Global                                                  0.44662   \n",
       "United States of America                                0.00000   \n",
       "China                                                   0.03800   \n",
       "\n",
       "                          Cases - newly reported in last 7 days per 100000 population  \\\n",
       "Global                                                                    0             \n",
       "United States of America                                                  0             \n",
       "China                                                                     0             \n",
       "\n",
       "                          Cases - newly reported in last 24 hours  \\\n",
       "Global                                                    6954336   \n",
       "United States of America                                  1127152   \n",
       "China                                                      121628   \n",
       "\n",
       "                          Deaths - cumulative total  \\\n",
       "Global                                    89.220604   \n",
       "United States of America                 340.527000   \n",
       "China                                      8.267000   \n",
       "\n",
       "                          Deaths - cumulative total per 100000 population  \\\n",
       "Global                                                                147   \n",
       "United States of America                                                0   \n",
       "China                                                                   0   \n",
       "\n",
       "                          Deaths - newly reported in last 7 days  \\\n",
       "Global                                                  0.001886   \n",
       "United States of America                                0.000000   \n",
       "China                                                   0.000000   \n",
       "\n",
       "                          Deaths - newly reported in last 7 days per 100000 population  \\\n",
       "Global                                                                    0              \n",
       "United States of America                                                  0              \n",
       "China                                                                     0              \n",
       "\n",
       "                          Deaths - newly reported in last 24 hours  \n",
       "Global                                                         NaN  \n",
       "United States of America                                       NaN  \n",
       "China                                                          NaN  "
      ]
     },
     "execution_count": 3,
     "metadata": {},
     "output_type": "execute_result"
    }
   ],
   "source": [
    "import os\n",
    "print(os.getcwd())\n",
    "df = pd.read_csv(\"/home/ubuntu/WHO-COVID-19-global-table-data.csv\")\n",
    "# take a look at the dataset\n",
    "df.head(3)"
   ]
  },
  {
   "cell_type": "markdown",
   "metadata": {},
   "source": [
    "Lets select some features that we want to use for regression."
   ]
  },
  {
   "cell_type": "code",
   "execution_count": 4,
   "metadata": {},
   "outputs": [
    {
     "name": "stdout",
     "output_type": "stream",
     "text": [
      "root\n",
      " |-- _c0: string (nullable = true)\n",
      " |-- _c1: string (nullable = true)\n",
      " |-- _c2: string (nullable = true)\n",
      " |-- _c3: string (nullable = true)\n",
      " |-- _c4: string (nullable = true)\n",
      " |-- _c5: string (nullable = true)\n",
      " |-- _c6: string (nullable = true)\n",
      " |-- _c7: string (nullable = true)\n",
      " |-- _c8: string (nullable = true)\n",
      " |-- _c9: string (nullable = true)\n",
      " |-- _c10: string (nullable = true)\n",
      " |-- _c11: string (nullable = true)\n",
      "\n"
     ]
    }
   ],
   "source": [
    "df_spark = spark.read.csv(\"/home/ubuntu/WHO-COVID-19-global-table-data.csv\")\n",
    "df_spark.printSchema()"
   ]
  },
  {
   "cell_type": "code",
   "execution_count": 5,
   "metadata": {},
   "outputs": [
    {
     "data": {
      "text/html": [
       "<div>\n",
       "<style scoped>\n",
       "    .dataframe tbody tr th:only-of-type {\n",
       "        vertical-align: middle;\n",
       "    }\n",
       "\n",
       "    .dataframe tbody tr th {\n",
       "        vertical-align: top;\n",
       "    }\n",
       "\n",
       "    .dataframe thead th {\n",
       "        text-align: right;\n",
       "    }\n",
       "</style>\n",
       "<table border=\"1\" class=\"dataframe\">\n",
       "  <thead>\n",
       "    <tr style=\"text-align: right;\">\n",
       "      <th></th>\n",
       "      <th>Cases - cumulative total</th>\n",
       "      <th>Deaths - cumulative total</th>\n",
       "    </tr>\n",
       "  </thead>\n",
       "  <tbody>\n",
       "    <tr>\n",
       "      <th>Global</th>\n",
       "      <td>9870.624662</td>\n",
       "      <td>89.220604</td>\n",
       "    </tr>\n",
       "    <tr>\n",
       "      <th>United States of America</th>\n",
       "      <td>31249.547000</td>\n",
       "      <td>340.527000</td>\n",
       "    </tr>\n",
       "    <tr>\n",
       "      <th>China</th>\n",
       "      <td>6749.256000</td>\n",
       "      <td>8.267000</td>\n",
       "    </tr>\n",
       "  </tbody>\n",
       "</table>\n",
       "</div>"
      ],
      "text/plain": [
       "                          Cases - cumulative total  Deaths - cumulative total\n",
       "Global                                 9870.624662                  89.220604\n",
       "United States of America              31249.547000                 340.527000\n",
       "China                                  6749.256000                   8.267000"
      ]
     },
     "execution_count": 5,
     "metadata": {},
     "output_type": "execute_result"
    }
   ],
   "source": [
    "cdf = df[[\"Cases - cumulative total\", \"Deaths - cumulative total\"]]\n",
    "cdf.head(3)"
   ]
  },
  {
   "cell_type": "markdown",
   "metadata": {},
   "source": [
    "Lets plot Yearly Amount Spent values with respect to Length of Membership:"
   ]
  },
  {
   "cell_type": "code",
   "execution_count": 6,
   "metadata": {},
   "outputs": [
    {
     "data": {
      "image/png": "[encoded data removed]",
      "text/plain": [
       "<Figure size 432x288 with 1 Axes>"
      ]
     },
     "metadata": {
      "needs_background": "light"
     },
     "output_type": "display_data"
    }
   ],
   "source": [
    "plt.scatter(cdf[[\"Cases - cumulative total\"]], cdf[[\"Deaths - cumulative total\"]],  color='blue')\n",
    "plt.xlabel(\"Cases - cumulative total\")\n",
    "plt.ylabel(\"Deaths - cumulative total\")\n",
    "plt.show()"
   ]
  },
  {
   "cell_type": "markdown",
   "metadata": {},
   "source": [
    "## 3. Data Prepatation"
   ]
  },
  {
   "cell_type": "markdown",
   "metadata": {},
   "source": [
    "### 3.1 Data Quality"
   ]
  },
  {
   "cell_type": "code",
   "execution_count": 7,
   "metadata": {},
   "outputs": [
    {
     "name": "stderr",
     "output_type": "stream",
     "text": [
      "\r",
      "[Stage 3:>                                                          (0 + 1) / 1]\r"
     ]
    },
    {
     "name": "stdout",
     "output_type": "stream",
     "text": [
      "+-------+--------------------+---------------+------------------------+----------------------------------------------+-------------------------------------+-----------------------------------------------------------+---------------------------------------+-------------------------+-----------------------------------------------+--------------------------------------+------------------------------------------------------------+----------------------------------------+\n",
      "|summary|                Name|     WHO Region|Cases - cumulative total|Cases - cumulative total per 100000 population|Cases - newly reported in last 7 days|Cases - newly reported in last 7 days per 100000 population|Cases - newly reported in last 24 hours|Deaths - cumulative total|Deaths - cumulative total per 100000 population|Deaths - newly reported in last 7 days|Deaths - newly reported in last 7 days per 100000 population|Deaths - newly reported in last 24 hours|\n",
      "+-------+--------------------+---------------+------------------------+----------------------------------------------+-------------------------------------+-----------------------------------------------------------+---------------------------------------+-------------------------+-----------------------------------------------+--------------------------------------+------------------------------------------------------------+----------------------------------------+\n",
      "|  count|                 238|            237|                     238|                                           237|                                  238|                                                        237|                                    238|                      238|                                            237|                                   238|                                                         237|                                     238|\n",
      "|   mean|                null|           null|      6465292.6302521005|                             20460.22532347025|                    292.5378151260504|                                         1.7783106342023878|                                    0.0|        58439.79831932773|                             124.85633588254277|                    1.2352941176470589|                                        0.003130320402753717|                                     0.0|\n",
      "| stddev|                null|           null|      5.09293131462331E7|                            20213.950251864782|                   2624.5671125158624|                                         13.777501031068901|                                    0.0|       460603.18103013746|                             128.82113470081242|                     10.17211036304779|                                        0.023274086855348156|                                     0.0|\n",
      "|    min|         Afghanistan|         Africa|                       0|                                           0.0|                                    0|                                                        0.0|                                      0|                        0|                                            0.0|                                     0|                                                         0.0|                                       0|\n",
      "|    max|occupied Palestin...|Western Pacific|               769369823|                                     74420.076|                                34812|                                                    185.414|                                      0|                  6954336|                                        671.373|                                   147|                                                       0.322|                                       0|\n",
      "+-------+--------------------+---------------+------------------------+----------------------------------------------+-------------------------------------+-----------------------------------------------------------+---------------------------------------+-------------------------+-----------------------------------------------+--------------------------------------+------------------------------------------------------------+----------------------------------------+\n",
      "\n"
     ]
    },
    {
     "name": "stderr",
     "output_type": "stream",
     "text": [
      "\r",
      "                                                                                \r"
     ]
    }
   ],
   "source": [
    "# Use Spark to read in the Ecommerce Customers csv file.\n",
    "df_spark = spark.read.csv(\"/home/ubuntu/WHO-COVID-19-global-table-data.csv\",inferSchema=True,header=True)\n",
    "df_spark.describe().show()"
   ]
  },
  {
   "cell_type": "code",
   "execution_count": 8,
   "metadata": {},
   "outputs": [
    {
     "name": "stdout",
     "output_type": "stream",
     "text": [
      "+----+----------+------------------------+----------------------------------------------+-------------------------------------+-----------------------------------------------------------+---------------------------------------+-------------------------+-----------------------------------------------+--------------------------------------+------------------------------------------------------------+----------------------------------------+\n",
      "|Name|WHO Region|Cases - cumulative total|Cases - cumulative total per 100000 population|Cases - newly reported in last 7 days|Cases - newly reported in last 7 days per 100000 population|Cases - newly reported in last 24 hours|Deaths - cumulative total|Deaths - cumulative total per 100000 population|Deaths - newly reported in last 7 days|Deaths - newly reported in last 7 days per 100000 population|Deaths - newly reported in last 24 hours|\n",
      "+----+----------+------------------------+----------------------------------------------+-------------------------------------+-----------------------------------------------------------+---------------------------------------+-------------------------+-----------------------------------------------+--------------------------------------+------------------------------------------------------------+----------------------------------------+\n",
      "|   0|         1|                       0|                                             1|                                    0|                                                          1|                                      0|                        0|                                              1|                                     0|                                                           1|                                       0|\n",
      "+----+----------+------------------------+----------------------------------------------+-------------------------------------+-----------------------------------------------------------+---------------------------------------+-------------------------+-----------------------------------------------+--------------------------------------+------------------------------------------------------------+----------------------------------------+\n",
      "\n"
     ]
    }
   ],
   "source": [
    "from pyspark.sql.functions import col, sum\n",
    "\n",
    "df_spark.select(*[sum(col(c).isNull().cast(\"int\")).alias(c) for c in df.columns]).show()\n"
   ]
  },
  {
   "cell_type": "markdown",
   "metadata": {},
   "source": [
    "### 3.2 Cleaning the data"
   ]
  },
  {
   "cell_type": "code",
   "execution_count": 9,
   "metadata": {},
   "outputs": [
    {
     "data": {
      "text/plain": [
       "DataFrame[Name: string, WHO Region: string, Cases - cumulative total: int, Cases - cumulative total per 100000 population: double, Cases - newly reported in last 7 days: int, Cases - newly reported in last 7 days per 100000 population: double, Cases - newly reported in last 24 hours: int, Deaths - cumulative total: int, Deaths - cumulative total per 100000 population: double, Deaths - newly reported in last 7 days: int, Deaths - newly reported in last 7 days per 100000 population: double]"
      ]
     },
     "execution_count": 9,
     "metadata": {},
     "output_type": "execute_result"
    }
   ],
   "source": [
    "df_spark.drop(\"Deaths - newly reported in last 24 hours\")"
   ]
  },
  {
   "cell_type": "code",
   "execution_count": 10,
   "metadata": {},
   "outputs": [
    {
     "data": {
      "text/plain": [
       "[Row(Name='Global', WHO Region=None, Cases - cumulative total=769369823, Cases - cumulative total per 100000 population=9870.624662449067, Cases - newly reported in last 7 days=34812, Cases - newly reported in last 7 days per 100000 population=0.4466203059658828, Cases - newly reported in last 24 hours=0, Deaths - cumulative total=6954336, Deaths - cumulative total per 100000 population=89.22060416263218, Deaths - newly reported in last 7 days=147, Deaths - newly reported in last 7 days per 100000 population=0.0018859354526308378, Deaths - newly reported in last 24 hours=0),\n",
       " Row(Name='United States of America', WHO Region='Americas', Cases - cumulative total=103436829, Cases - cumulative total per 100000 population=31249.547, Cases - newly reported in last 7 days=0, Cases - newly reported in last 7 days per 100000 population=0.0, Cases - newly reported in last 24 hours=0, Deaths - cumulative total=1127152, Deaths - cumulative total per 100000 population=340.527, Deaths - newly reported in last 7 days=0, Deaths - newly reported in last 7 days per 100000 population=0.0, Deaths - newly reported in last 24 hours=0),\n",
       " Row(Name='China', WHO Region='Western Pacific', Cases - cumulative total=99300923, Cases - cumulative total per 100000 population=6749.256, Cases - newly reported in last 7 days=553, Cases - newly reported in last 7 days per 100000 population=0.038, Cases - newly reported in last 24 hours=0, Deaths - cumulative total=121628, Deaths - cumulative total per 100000 population=8.267, Deaths - newly reported in last 7 days=0, Deaths - newly reported in last 7 days per 100000 population=0.0, Deaths - newly reported in last 24 hours=0)]"
      ]
     },
     "execution_count": 10,
     "metadata": {},
     "output_type": "execute_result"
    }
   ],
   "source": [
    "df_spark.head(3)"
   ]
  },
  {
   "cell_type": "markdown",
   "metadata": {},
   "source": [
    "### 3.3 Construct the Data "
   ]
  },
  {
   "cell_type": "code",
   "execution_count": 11,
   "metadata": {},
   "outputs": [
    {
     "name": "stdout",
     "output_type": "stream",
     "text": [
      "root\n",
      " |-- Name: string (nullable = true)\n",
      " |-- WHO Region: string (nullable = true)\n",
      " |-- Cases - cumulative total: integer (nullable = true)\n",
      " |-- Cases - cumulative total per 100000 population: double (nullable = true)\n",
      " |-- Cases - newly reported in last 7 days: integer (nullable = true)\n",
      " |-- Cases - newly reported in last 7 days per 100000 population: double (nullable = true)\n",
      " |-- Cases - newly reported in last 24 hours: integer (nullable = true)\n",
      " |-- Deaths - cumulative total: integer (nullable = true)\n",
      " |-- Deaths - cumulative total per 100000 population: double (nullable = true)\n",
      " |-- Deaths - newly reported in last 7 days: integer (nullable = true)\n",
      " |-- Deaths - newly reported in last 7 days per 100000 population: double (nullable = true)\n",
      " |-- Deaths - newly reported in last 24 hours: integer (nullable = true)\n",
      " |-- Death Rate: double (nullable = true)\n",
      "\n"
     ]
    }
   ],
   "source": [
    "from pyspark.sql.functions import when\n",
    "\n",
    "df_spark = df_spark.withColumn(\n",
    "    \"Death Rate\",\n",
    "    when(df_spark[\"Cases - cumulative total\"] != 0, df_spark[\"Deaths - cumulative total\"] / df_spark[\"Cases - cumulative total\"]).otherwise(0)\n",
    ")\n",
    "df_spark.printSchema()"
   ]
  },
  {
   "cell_type": "code",
   "execution_count": 12,
   "metadata": {},
   "outputs": [
    {
     "name": "stdout",
     "output_type": "stream",
     "text": [
      "root\n",
      " |-- Name: string (nullable = true)\n",
      " |-- WHO Region: string (nullable = true)\n",
      " |-- Cases - cumulative total: integer (nullable = true)\n",
      " |-- Cases - cumulative total per 100000 population: double (nullable = true)\n",
      " |-- Cases - newly reported in last 7 days: integer (nullable = true)\n",
      " |-- Cases - newly reported in last 7 days per 100000 population: double (nullable = true)\n",
      " |-- Cases - newly reported in last 24 hours: integer (nullable = true)\n",
      " |-- Deaths - cumulative total: integer (nullable = true)\n",
      " |-- Deaths - cumulative total per 100000 population: double (nullable = true)\n",
      " |-- Deaths - newly reported in last 7 days: integer (nullable = true)\n",
      " |-- Deaths - newly reported in last 7 days per 100000 population: double (nullable = true)\n",
      " |-- Deaths - newly reported in last 24 hours: integer (nullable = true)\n",
      " |-- Death Rate: double (nullable = true)\n",
      " |-- Recovery Rate: double (nullable = true)\n",
      "\n"
     ]
    }
   ],
   "source": [
    "from pyspark.sql.functions import when\n",
    "\n",
    "df_spark = df_spark.withColumn(\n",
    "    \"Recovery Rate\",\n",
    "    when(df_spark[\"Cases - cumulative total\"] != 0, 1 - df_spark[\"Deaths - cumulative total\"] / df_spark[\"Cases - cumulative total\"]).otherwise(0)\n",
    ")\n",
    "df_spark.printSchema()"
   ]
  },
  {
   "cell_type": "markdown",
   "metadata": {},
   "source": [
    "### 3.5 Reformatting the data"
   ]
  },
  {
   "cell_type": "code",
   "execution_count": 13,
   "metadata": {},
   "outputs": [
    {
     "data": {
      "text/plain": [
       "[Row(Name='China', WHO Region='Western Pacific', Cases - cumulative total=99300923, Cases - cumulative total per 100000 population=6749.256, Cases - newly reported in last 7 days=553, Cases - newly reported in last 7 days per 100000 population=0.038, Cases - newly reported in last 24 hours=0, Deaths - cumulative total=121628, Deaths - cumulative total per 100000 population=8.267, Deaths - newly reported in last 7 days=0, Deaths - newly reported in last 7 days per 100000 population=0.0, Deaths - newly reported in last 24 hours=0, Death Rate=0.0012248425928528379, Recovery Rate=0.9987751574071472),\n",
       " Row(Name='Japan', WHO Region='Western Pacific', Cases - cumulative total=33803572, Cases - cumulative total per 100000 population=26727.165, Cases - newly reported in last 7 days=0, Cases - newly reported in last 7 days per 100000 population=0.0, Cases - newly reported in last 24 hours=0, Deaths - cumulative total=74694, Deaths - cumulative total per 100000 population=59.058, Deaths - newly reported in last 7 days=0, Deaths - newly reported in last 7 days per 100000 population=0.0, Deaths - newly reported in last 24 hours=0, Death Rate=0.002209648140143296, Recovery Rate=0.9977903518598567),\n",
       " Row(Name='Republic of Korea', WHO Region='Western Pacific', Cases - cumulative total=33554474, Cases - cumulative total per 100000 population=65447.645, Cases - newly reported in last 7 days=20255, Cases - newly reported in last 7 days per 100000 population=39.507, Cases - newly reported in last 24 hours=0, Deaths - cumulative total=35411, Deaths - cumulative total per 100000 population=69.069, Deaths - newly reported in last 7 days=0, Deaths - newly reported in last 7 days per 100000 population=0.0, Deaths - newly reported in last 24 hours=0, Death Rate=0.0010553287171183193, Recovery Rate=0.9989446712828817),\n",
       " Row(Name='Viet Nam', WHO Region='Western Pacific', Cases - cumulative total=11621997, Cases - cumulative total per 100000 population=11939.764, Cases - newly reported in last 7 days=114, Cases - newly reported in last 7 days per 100000 population=0.117, Cases - newly reported in last 24 hours=0, Deaths - cumulative total=43206, Deaths - cumulative total per 100000 population=44.387, Deaths - newly reported in last 7 days=0, Deaths - newly reported in last 7 days per 100000 population=0.0, Deaths - newly reported in last 24 hours=0, Death Rate=0.0037176055027376104, Recovery Rate=0.9962823944972624),\n",
       " Row(Name='Australia', WHO Region='Western Pacific', Cases - cumulative total=11560270, Cases - cumulative total per 100000 population=45334.598, Cases - newly reported in last 7 days=0, Cases - newly reported in last 7 days per 100000 population=0.0, Cases - newly reported in last 24 hours=0, Deaths - cumulative total=22482, Deaths - cumulative total per 100000 population=88.165, Deaths - newly reported in last 7 days=0, Deaths - newly reported in last 7 days per 100000 population=0.0, Deaths - newly reported in last 24 hours=0, Death Rate=0.0019447642658865234, Recovery Rate=0.9980552357341135),\n",
       " Row(Name='Malaysia', WHO Region='Western Pacific', Cases - cumulative total=5121920, Cases - cumulative total per 100000 population=15825.002, Cases - newly reported in last 7 days=0, Cases - newly reported in last 7 days per 100000 population=0.0, Cases - newly reported in last 24 hours=0, Deaths - cumulative total=37181, Deaths - cumulative total per 100000 population=114.877, Deaths - newly reported in last 7 days=0, Deaths - newly reported in last 7 days per 100000 population=0.0, Deaths - newly reported in last 24 hours=0, Death Rate=0.007259191865550419, Recovery Rate=0.9927408081344495),\n",
       " Row(Name='Philippines', WHO Region='Western Pacific', Cases - cumulative total=4173631, Cases - cumulative total per 100000 population=3808.715, Cases - newly reported in last 7 days=711, Cases - newly reported in last 7 days per 100000 population=0.649, Cases - newly reported in last 24 hours=0, Deaths - cumulative total=66626, Deaths - cumulative total per 100000 population=60.801, Deaths - newly reported in last 7 days=0, Deaths - newly reported in last 7 days per 100000 population=0.0, Deaths - newly reported in last 24 hours=0, Death Rate=0.015963557870832375, Recovery Rate=0.9840364421291676),\n",
       " Row(Name='Singapore', WHO Region='Western Pacific', Cases - cumulative total=2534940, Cases - cumulative total per 100000 population=43329.775, Cases - newly reported in last 7 days=0, Cases - newly reported in last 7 days per 100000 population=0.0, Cases - newly reported in last 24 hours=0, Deaths - cumulative total=1872, Deaths - cumulative total per 100000 population=31.998, Deaths - newly reported in last 7 days=0, Deaths - newly reported in last 7 days per 100000 population=0.0, Deaths - newly reported in last 24 hours=0, Death Rate=0.0007384790172548463, Recovery Rate=0.9992615209827451),\n",
       " Row(Name='New Zealand', WHO Region='Western Pacific', Cases - cumulative total=2364304, Cases - cumulative total per 100000 population=49029.236, Cases - newly reported in last 7 days=3869, Cases - newly reported in last 7 days per 100000 population=80.233, Cases - newly reported in last 24 hours=0, Deaths - cumulative total=3229, Deaths - cumulative total per 100000 population=66.961, Deaths - newly reported in last 7 days=0, Deaths - newly reported in last 7 days per 100000 population=0.0, Deaths - newly reported in last 24 hours=0, Death Rate=0.0013657296185262133, Recovery Rate=0.9986342703814738),\n",
       " Row(Name='Mongolia', WHO Region='Western Pacific', Cases - cumulative total=1010954, Cases - cumulative total per 100000 population=30837.845, Cases - newly reported in last 7 days=0, Cases - newly reported in last 7 days per 100000 population=0.0, Cases - newly reported in last 24 hours=0, Deaths - cumulative total=2284, Deaths - cumulative total per 100000 population=69.67, Deaths - newly reported in last 7 days=0, Deaths - newly reported in last 7 days per 100000 population=0.0, Deaths - newly reported in last 24 hours=0, Death Rate=0.002259252151927783, Recovery Rate=0.9977407478480722)]"
      ]
     },
     "execution_count": 13,
     "metadata": {},
     "output_type": "execute_result"
    }
   ],
   "source": [
    "Western_Pacific_data = df_spark.where(df_spark['WHO Region'] == 'Western Pacific')\n",
    "Western_Pacific_data.head(10)"
   ]
  },
  {
   "cell_type": "markdown",
   "metadata": {},
   "source": [
    "## 4. Data Transformation"
   ]
  },
  {
   "cell_type": "markdown",
   "metadata": {},
   "source": [
    "### 4.1 Data Reducing"
   ]
  },
  {
   "cell_type": "code",
   "execution_count": 14,
   "metadata": {},
   "outputs": [
    {
     "name": "stdout",
     "output_type": "stream",
     "text": [
      "Cases - cumulative total per 100000 population 0.47508341856732356\n",
      "Cases - newly reported in last 7 days per 100000 population 0.18325301744179656\n",
      "Cases - cumulative total 0.1309013883035972\n",
      "Cases - newly reported in last 7 days 0.10537231033586252\n",
      "Cases - newly reported in last 24 hours nan\n",
      "Deaths - cumulative total -0.06867654386643333\n",
      "Deaths - cumulative total per 100000 population -0.26130367503353236\n",
      "Deaths - newly reported in last 7 days nan\n",
      "Deaths - newly reported in last 7 days per 100000 population nan\n",
      "Deaths - newly reported in last 24 hours nan\n",
      "Recovery Rate 1.0\n",
      "Death Rate -1.0000000000000004\n"
     ]
    }
   ],
   "source": [
    "from pyspark.sql.functions import col\n",
    "\n",
    "# 1. Select columns for all numeric types\n",
    "numeric_columns = [name for name, dtype in Western_Pacific_data.dtypes if dtype in [\"int\", \"double\"]]\n",
    "\n",
    "data_Importance = Western_Pacific_data.select(numeric_columns)\n",
    "\n",
    "# 2. Select columns for all numeric types\n",
    "correlation_matrix = {}\n",
    "for column in numeric_columns:\n",
    "    correlation_value = data_Importance.stat.corr(column, \"Recovery Rate\")\n",
    "    correlation_matrix[column] = correlation_value\n",
    "\n",
    "# 3. Print the correlations of the other columns associated with the Recovery Rate column, in descending order\n",
    "sorted_correlation = sorted(correlation_matrix.items(), key=lambda x: x[1], reverse=True)\n",
    "for col, corr in sorted_correlation:\n",
    "    print(col, corr)\n",
    "\n",
    "columns_to_drop = ['Deaths - newly reported in last 7 days', 'Cases - newly reported in last 24 hours']\n",
    "Western_Pacific_data = Western_Pacific_data.drop(*columns_to_drop)"
   ]
  },
  {
   "cell_type": "markdown",
   "metadata": {},
   "source": [
    "### 4.2 Data Projection"
   ]
  },
  {
   "cell_type": "code",
   "execution_count": 15,
   "metadata": {},
   "outputs": [
    {
     "data": {
      "application/vnd.jupyter.widget-view+json": {
       "model_id": "7251edee8aa347fba31607d8eb716035",
       "version_major": 2,
       "version_minor": 0
      },
      "text/plain": [
       "                                             |                                                                …"
      ]
     },
     "metadata": {},
     "output_type": "display_data"
    },
    {
     "name": "stdout",
     "output_type": "stream",
     "text": [
      "Report Report_WP.html was generated! NOTEBOOK/COLAB USERS: the web browser MAY not pop up, regardless, the report IS saved in your notebook/colab files.\n"
     ]
    },
    {
     "data": {
      "application/vnd.jupyter.widget-view+json": {
       "model_id": "fc5899693e004139ba6c463c7137fa5a",
       "version_major": 2,
       "version_minor": 0
      },
      "text/plain": [
       "                                             |                                                                …"
      ]
     },
     "metadata": {},
     "output_type": "display_data"
    },
    {
     "name": "stdout",
     "output_type": "stream",
     "text": [
      "Report Report_WP_Updated.html was generated! NOTEBOOK/COLAB USERS: the web browser MAY not pop up, regardless, the report IS saved in your notebook/colab files.\n"
     ]
    }
   ],
   "source": [
    "from pyspark.sql.functions import log\n",
    "import sweetviz as sv\n",
    "from pyspark.sql.functions import col\n",
    "\n",
    "# First, convert the PySpark DataFrame to Pandas DataFrame\n",
    "western_pacific_pd = Western_Pacific_data.toPandas()\n",
    "report_WP = sv.analyze(western_pacific_pd)\n",
    "report_WP.show_html('Report_WP.html')\n",
    "\n",
    "Western_Pacific_data = Western_Pacific_data.withColumn(\n",
    "    \"Cases - cumulative total\", \n",
    "    log(col(\"Cases - cumulative total\") + 1e-9)\n",
    ")\n",
    "\n",
    "western_pacific_pd_updated = Western_Pacific_data.toPandas()\n",
    "report_WP_updated = sv.analyze(western_pacific_pd_updated)\n",
    "report_WP_updated.show_html('Report_WP_Updated.html')\n"
   ]
  },
  {
   "cell_type": "markdown",
   "metadata": {},
   "source": [
    "## 5. DM Method"
   ]
  },
  {
   "cell_type": "markdown",
   "metadata": {},
   "source": [
    "#### Identify the Data Mining method\n",
    "#### Describe how it aligns with the objectives"
   ]
  },
  {
   "cell_type": "markdown",
   "metadata": {},
   "source": [
    "## 6. Data Mining Algorithms Selection"
   ]
  },
  {
   "cell_type": "code",
   "execution_count": 16,
   "metadata": {
    "scrolled": false
   },
   "outputs": [
    {
     "name": "stderr",
     "output_type": "stream",
     "text": [
      "23/10/11 08:06:20 WARN Instrumentation: [220ad769] regParam is zero, which might cause numerical instability and overfitting.\n",
      "23/10/11 08:06:20 WARN InstanceBuilder$NativeBLAS: Failed to load implementation from:dev.ludovic.netlib.blas.JNIBLAS\n",
      "23/10/11 08:06:20 WARN InstanceBuilder$NativeBLAS: Failed to load implementation from:dev.ludovic.netlib.blas.ForeignLinkerBLAS\n",
      "23/10/11 08:06:20 WARN InstanceBuilder$NativeLAPACK: Failed to load implementation from:dev.ludovic.netlib.lapack.JNILAPACK\n"
     ]
    },
    {
     "name": "stdout",
     "output_type": "stream",
     "text": [
      "Coefficient of determination (R^2): 0.03193427201952015\n",
      "Intercept: 0.9987171680575043\n",
      "Slope: [-0.0002453992661276033]\n"
     ]
    },
    {
     "data": {
      "image/png": "[encoded data removed]",
      "text/plain": [
       "<Figure size 600x400 with 1 Axes>"
      ]
     },
     "metadata": {},
     "output_type": "display_data"
    }
   ],
   "source": [
    "from pyspark.ml.regression import LinearRegression\n",
    "from pyspark.ml.feature import VectorAssembler\n",
    "from pyspark.ml.evaluation import RegressionEvaluator\n",
    "import matplotlib.pyplot as plt\n",
    "\n",
    "# Initialize Spark session\n",
    "from pyspark.sql import SparkSession\n",
    "spark = SparkSession.builder.appName(\"LinearRegressionExample\").getOrCreate()\n",
    "\n",
    "# Transform the two columns into a feature vector\n",
    "vector_assembler = VectorAssembler(inputCols=['Cases - cumulative total'], outputCol='features')\n",
    "vwestern_pacific_data = vector_assembler.transform(Western_Pacific_data)\n",
    "\n",
    "# Perform linear regression\n",
    "lr = LinearRegression(featuresCol='features', labelCol='Recovery Rate')\n",
    "lr_model = lr.fit(vwestern_pacific_data)\n",
    "training_summary = lr_model.summary\n",
    "\n",
    "print(\"Coefficient of determination (R^2):\", training_summary.r2)\n",
    "print(\"Intercept:\", lr_model.intercept)\n",
    "print(\"Slope:\", lr_model.coefficients)\n",
    "\n",
    "# Plotting\n",
    "predictions = lr_model.transform(vwestern_pacific_data)\n",
    "x = predictions.toPandas()['Cases - cumulative total'].values\n",
    "y = predictions.toPandas()['Recovery Rate'].values\n",
    "y_pred = predictions.toPandas()['prediction'].values\n",
    "\n",
    "plt.scatter(x, y, color='gray')\n",
    "plt.plot(x, y_pred, color='red')\n",
    "plt.xlabel('Cases - cumulative total')\n",
    "plt.ylabel('Recovery Rate')\n",
    "plt.title('Linear Regression')\n",
    "plt.show()\n"
   ]
  },
  {
   "cell_type": "markdown",
   "metadata": {},
   "source": [
    "### 6.3 Build/Select Model with Algorithm/Model Parameter"
   ]
  },
  {
   "cell_type": "code",
   "execution_count": 17,
   "metadata": {},
   "outputs": [],
   "source": [
    "import findspark"
   ]
  },
  {
   "cell_type": "code",
   "execution_count": 18,
   "metadata": {},
   "outputs": [],
   "source": [
    "findspark.init()"
   ]
  },
  {
   "cell_type": "code",
   "execution_count": 19,
   "metadata": {},
   "outputs": [],
   "source": [
    "from pyspark.sql import SparkSession"
   ]
  },
  {
   "cell_type": "code",
   "execution_count": 20,
   "metadata": {},
   "outputs": [],
   "source": [
    "spark = SparkSession.builder.appName('lr_example').getOrCreate()"
   ]
  },
  {
   "cell_type": "code",
   "execution_count": 21,
   "metadata": {},
   "outputs": [],
   "source": [
    "from pyspark.ml.regression import LinearRegression"
   ]
  },
  {
   "cell_type": "code",
   "execution_count": 22,
   "metadata": {},
   "outputs": [
    {
     "name": "stdout",
     "output_type": "stream",
     "text": [
      "root\n",
      " |-- Name: string (nullable = true)\n",
      " |-- WHO Region: string (nullable = true)\n",
      " |-- Cases - cumulative total: double (nullable = true)\n",
      " |-- Cases - cumulative total per 100000 population: double (nullable = true)\n",
      " |-- Cases - newly reported in last 7 days: integer (nullable = true)\n",
      " |-- Cases - newly reported in last 7 days per 100000 population: double (nullable = true)\n",
      " |-- Deaths - cumulative total: integer (nullable = true)\n",
      " |-- Deaths - cumulative total per 100000 population: double (nullable = true)\n",
      " |-- Deaths - newly reported in last 7 days per 100000 population: double (nullable = true)\n",
      " |-- Deaths - newly reported in last 24 hours: integer (nullable = true)\n",
      " |-- Death Rate: double (nullable = true)\n",
      " |-- Recovery Rate: double (nullable = true)\n",
      "\n"
     ]
    }
   ],
   "source": [
    "# Print the Schema of the DataFrame\n",
    "Western_Pacific_data.printSchema()"
   ]
  },
  {
   "cell_type": "code",
   "execution_count": 23,
   "metadata": {},
   "outputs": [],
   "source": [
    "# The data should to be in the form of two columns\n",
    "# (\"label\",\"features\")\n",
    "# Import VectorAssembler and Vectors\n",
    "from pyspark.ml.linalg import Vectors\n",
    "from pyspark.ml.feature import VectorAssembler"
   ]
  },
  {
   "cell_type": "code",
   "execution_count": 24,
   "metadata": {},
   "outputs": [
    {
     "data": {
      "text/plain": [
       "['Name',\n",
       " 'WHO Region',\n",
       " 'Cases - cumulative total',\n",
       " 'Cases - cumulative total per 100000 population',\n",
       " 'Cases - newly reported in last 7 days',\n",
       " 'Cases - newly reported in last 7 days per 100000 population',\n",
       " 'Deaths - cumulative total',\n",
       " 'Deaths - cumulative total per 100000 population',\n",
       " 'Deaths - newly reported in last 7 days per 100000 population',\n",
       " 'Deaths - newly reported in last 24 hours',\n",
       " 'Death Rate',\n",
       " 'Recovery Rate']"
      ]
     },
     "execution_count": 24,
     "metadata": {},
     "output_type": "execute_result"
    }
   ],
   "source": [
    "Western_Pacific_data.columns"
   ]
  },
  {
   "cell_type": "markdown",
   "metadata": {},
   "source": [
    "### 7 Data Mining"
   ]
  },
  {
   "cell_type": "code",
   "execution_count": 25,
   "metadata": {},
   "outputs": [],
   "source": [
    "from pyspark.ml.feature import VectorAssembler\n",
    "assembler = VectorAssembler(\n",
    "    inputCols=[\"Death Rate\", \"Recovery Rate\", \"Cases - cumulative total\", \"Deaths - cumulative total\"],\n",
    "    outputCol=\"features\") "
   ]
  },
  {
   "cell_type": "code",
   "execution_count": 26,
   "metadata": {},
   "outputs": [],
   "source": [
    "output = assembler.transform(Western_Pacific_data)"
   ]
  },
  {
   "cell_type": "code",
   "execution_count": 27,
   "metadata": {},
   "outputs": [
    {
     "name": "stdout",
     "output_type": "stream",
     "text": [
      "+--------------------+\n",
      "|            features|\n",
      "+--------------------+\n",
      "|[0.00122484259285...|\n",
      "|[0.00220964814014...|\n",
      "|[0.00105532871711...|\n",
      "+--------------------+\n",
      "only showing top 3 rows\n",
      "\n"
     ]
    }
   ],
   "source": [
    "output.select(\"features\").show(3)"
   ]
  },
  {
   "cell_type": "code",
   "execution_count": 28,
   "metadata": {
    "scrolled": true
   },
   "outputs": [
    {
     "name": "stdout",
     "output_type": "stream",
     "text": [
      "+-----+---------------+------------------------+----------------------------------------------+-------------------------------------+-----------------------------------------------------------+-------------------------+-----------------------------------------------+------------------------------------------------------------+----------------------------------------+--------------------+------------------+--------------------+\n",
      "| Name|     WHO Region|Cases - cumulative total|Cases - cumulative total per 100000 population|Cases - newly reported in last 7 days|Cases - newly reported in last 7 days per 100000 population|Deaths - cumulative total|Deaths - cumulative total per 100000 population|Deaths - newly reported in last 7 days per 100000 population|Deaths - newly reported in last 24 hours|          Death Rate|     Recovery Rate|            features|\n",
      "+-----+---------------+------------------------+----------------------------------------------+-------------------------------------+-----------------------------------------------------------+-------------------------+-----------------------------------------------+------------------------------------------------------------+----------------------------------------+--------------------+------------------+--------------------+\n",
      "|China|Western Pacific|       18.41366542403766|                                      6749.256|                                  553|                                                      0.038|                   121628|                                          8.267|                                                         0.0|                                       0|0.001224842592852...|0.9987751574071472|[0.00122484259285...|\n",
      "+-----+---------------+------------------------+----------------------------------------------+-------------------------------------+-----------------------------------------------------------+-------------------------+-----------------------------------------------+------------------------------------------------------------+----------------------------------------+--------------------+------------------+--------------------+\n",
      "only showing top 1 row\n",
      "\n"
     ]
    }
   ],
   "source": [
    "output.show(1)"
   ]
  },
  {
   "cell_type": "code",
   "execution_count": 29,
   "metadata": {},
   "outputs": [],
   "source": [
    "final_data = output.select(\"features\",'Recovery Rate')"
   ]
  },
  {
   "cell_type": "code",
   "execution_count": 30,
   "metadata": {},
   "outputs": [
    {
     "name": "stdout",
     "output_type": "stream",
     "text": [
      "root\n",
      " |-- features: vector (nullable = true)\n",
      " |-- Recovery Rate: double (nullable = true)\n",
      "\n"
     ]
    }
   ],
   "source": [
    "final_data.printSchema()"
   ]
  },
  {
   "cell_type": "code",
   "execution_count": 31,
   "metadata": {},
   "outputs": [
    {
     "name": "stdout",
     "output_type": "stream",
     "text": [
      "+--------------------+------------------+\n",
      "|            features|     Recovery Rate|\n",
      "+--------------------+------------------+\n",
      "|[0.00122484259285...|0.9987751574071472|\n",
      "|[0.00220964814014...|0.9977903518598567|\n",
      "|[0.00105532871711...|0.9989446712828817|\n",
      "+--------------------+------------------+\n",
      "only showing top 3 rows\n",
      "\n"
     ]
    }
   ],
   "source": [
    "final_data.show(3)"
   ]
  },
  {
   "cell_type": "markdown",
   "metadata": {},
   "source": [
    "We  separated our data set into a training and test set. "
   ]
  },
  {
   "cell_type": "code",
   "execution_count": 42,
   "metadata": {},
   "outputs": [],
   "source": [
    "# Pass in the split between training/test as a list.\n",
    "train_data,test_data = final_data.randomSplit([0.5,0.5])"
   ]
  },
  {
   "cell_type": "code",
   "execution_count": 43,
   "metadata": {},
   "outputs": [],
   "source": [
    "from pyspark.ml.regression import LinearRegression\n",
    "# Create a Linear Regression Model object\n",
    "lr = LinearRegression(labelCol='Recovery Rate')"
   ]
  },
  {
   "cell_type": "code",
   "execution_count": 44,
   "metadata": {},
   "outputs": [
    {
     "name": "stderr",
     "output_type": "stream",
     "text": [
      "23/10/11 08:07:25 WARN Instrumentation: [28dd65a1] regParam is zero, which might cause numerical instability and overfitting.\n"
     ]
    }
   ],
   "source": [
    "# Fit the model to the data and call this model lrModel\n",
    "lrModel = lr.fit(train_data,)"
   ]
  },
  {
   "cell_type": "markdown",
   "metadata": {},
   "source": [
    "Now we only train on the train_data"
   ]
  },
  {
   "cell_type": "code",
   "execution_count": 45,
   "metadata": {},
   "outputs": [
    {
     "name": "stdout",
     "output_type": "stream",
     "text": [
      "Coefficients: [0.5307076560661704,1.5307076560660473,-1.7445356025991148e-16,1.5469155247629697e-20] Intercept: -0.5307076560660463\n"
     ]
    }
   ],
   "source": [
    "# Print the coefficients and intercept for linear regression\n",
    "print(\"Coefficients: {} Intercept: {}\".format(lrModel.coefficients,lrModel.intercept))"
   ]
  },
  {
   "cell_type": "markdown",
   "metadata": {},
   "source": [
    "Now we can directly get a .summary object using the evaluate method:"
   ]
  },
  {
   "cell_type": "code",
   "execution_count": 46,
   "metadata": {},
   "outputs": [],
   "source": [
    "test_results = lrModel.evaluate(test_data)"
   ]
  },
  {
   "cell_type": "code",
   "execution_count": 47,
   "metadata": {},
   "outputs": [
    {
     "name": "stdout",
     "output_type": "stream",
     "text": [
      "+--------------------+\n",
      "|           residuals|\n",
      "+--------------------+\n",
      "|1.110223024625156...|\n",
      "|6.661338147750939...|\n",
      "|8.881784197001252...|\n",
      "|1.665334536937734...|\n",
      "|6.661338147750939...|\n",
      "|1.332267629550187...|\n",
      "|2.220446049250313...|\n",
      "|4.440892098500626...|\n",
      "|8.881784197001252...|\n",
      "|6.661338147750939...|\n",
      "|                 0.0|\n",
      "|-9.99200722162640...|\n",
      "|-1.88737914186276...|\n",
      "+--------------------+\n",
      "\n",
      "RMSE: 9.717805955881667e-16\n"
     ]
    },
    {
     "name": "stderr",
     "output_type": "stream",
     "text": [
      "/home/ubuntu/spark-3.2.1-bin-hadoop2.7/python/pyspark/sql/context.py:125: FutureWarning: Deprecated in 3.0.0. Use SparkSession.builder.getOrCreate() instead.\n",
      "  warnings.warn(\n"
     ]
    }
   ],
   "source": [
    "test_results.residuals.show()\n",
    "print(\"RMSE: {}\".format(test_results.rootMeanSquaredError))"
   ]
  },
  {
   "cell_type": "markdown",
   "metadata": {},
   "source": [
    "Well that is nice, but realistically we will eventually want to test this model against unlabeled data, after all, that is the whole point of building the model in the first place. We can again do this with a convenient method call, in this case, transform(). Which was actually being called within the evaluate() method. Let's see it in action:"
   ]
  },
  {
   "cell_type": "code",
   "execution_count": 48,
   "metadata": {},
   "outputs": [],
   "source": [
    "unlabeled_data = test_data.select('features')"
   ]
  },
  {
   "cell_type": "markdown",
   "metadata": {},
   "source": [
    "<h2 id=\"prediction\">Prediction</h2>"
   ]
  },
  {
   "cell_type": "code",
   "execution_count": 49,
   "metadata": {},
   "outputs": [],
   "source": [
    "predictions = lrModel.transform(unlabeled_data)"
   ]
  },
  {
   "cell_type": "code",
   "execution_count": 50,
   "metadata": {},
   "outputs": [
    {
     "name": "stdout",
     "output_type": "stream",
     "text": [
      "+--------------------+------------------+\n",
      "|            features|        prediction|\n",
      "+--------------------+------------------+\n",
      "|[0.0,1.0,6.715383...|0.9999999999999999|\n",
      "|[1.85425551641016...|0.9998145744483583|\n",
      "|[7.13478803733872...|0.9992865211962653|\n",
      "|[7.38479017254846...|0.9992615209827435|\n",
      "|[0.00105603180519...|0.9989439681948061|\n",
      "|[0.00136572961852...|0.9986342703814725|\n",
      "|[0.00145725388601...|0.9985427461139894|\n",
      "|[0.00184798807749...|0.9981520119225032|\n",
      "|[0.00306726031029...|0.9969327396897075|\n",
      "|[0.00371760550273...|0.9962823944972617|\n",
      "|[0.00707972791633...|0.9929202720836611|\n",
      "|[0.01429668828951...|0.9857033117104824|\n",
      "|[0.02199510580106...|0.9780048941989367|\n",
      "+--------------------+------------------+\n",
      "\n"
     ]
    }
   ],
   "source": [
    "predictions.show()"
   ]
  },
  {
   "cell_type": "code",
   "execution_count": 51,
   "metadata": {},
   "outputs": [
    {
     "name": "stdout",
     "output_type": "stream",
     "text": [
      "RMSE: 9.717805955881667e-16\n",
      "MSE: 9.44357525961692e-31\n"
     ]
    }
   ],
   "source": [
    "print(\"RMSE: {}\".format(test_results.rootMeanSquaredError))\n",
    "print(\"MSE: {}\".format(test_results.meanSquaredError))"
   ]
  },
  {
   "cell_type": "code",
   "execution_count": 57,
   "metadata": {},
   "outputs": [
    {
     "name": "stderr",
     "output_type": "stream",
     "text": [
      "23/10/11 09:10:16 WARN Instrumentation: [a1063e7a] regParam is zero, which might cause numerical instability and overfitting.\n"
     ]
    },
    {
     "data": {
      "image/png": "[encoded data removed]",
      "text/plain": [
       "<Figure size 600x400 with 1 Axes>"
      ]
     },
     "metadata": {},
     "output_type": "display_data"
    }
   ],
   "source": [
    "from pyspark.ml.feature import VectorAssembler\n",
    "from pyspark.ml.regression import LinearRegression\n",
    "from matplotlib import pyplot as plt\n",
    "from pyspark.sql import SparkSession\n",
    "\n",
    "# Initialize SparkSession\n",
    "spark = SparkSession.builder \\\n",
    "    .appName(\"Linear Regression with PySpark\") \\\n",
    "    .getOrCreate()\n",
    "\n",
    "# Feature engineering using VectorAssembler\n",
    "assembler = VectorAssembler(\n",
    "    inputCols=[\"Death Rate\", \"Recovery Rate\", \"Deaths - cumulative total\"],\n",
    "    outputCol=\"features\")\n",
    "output = assembler.transform(Western_Pacific_data)\n",
    "\n",
    "# Selecting necessary columns for regression model\n",
    "final_data = output.select(\"features\", 'Cases - cumulative total')\n",
    "\n",
    "# Splitting the data\n",
    "train_data, test_data = final_data.randomSplit([0.7, 0.3])\n",
    "\n",
    "# Defining and fitting the model\n",
    "lr = LinearRegression(labelCol='Cases - cumulative total')\n",
    "lrModel = lr.fit(train_data)\n",
    "\n",
    "# Predicting on test data\n",
    "test_results = lrModel.evaluate(test_data)\n",
    "predictions = test_results.predictions\n",
    "\n",
    "# Extracting predicted and actual values for plotting\n",
    "actual = predictions.select(\"Cases - cumulative total\").rdd.flatMap(lambda x: x).collect()\n",
    "predicted = predictions.select(\"prediction\").rdd.flatMap(lambda x: x).collect()\n",
    "\n",
    "# Plotting the actual vs predicted values\n",
    "plt.scatter(actual, predicted, color='blue')\n",
    "plt.plot([min(actual), max(actual)], [min(actual), max(actual)], color='red')  # regression line\n",
    "plt.xlabel('Actual Cases - cumulative total')\n",
    "plt.ylabel('Predicted Cases - cumulative total')\n",
    "plt.title('Linear Regression Results')\n",
    "plt.show()\n"
   ]
  },
  {
   "cell_type": "markdown",
   "metadata": {},
   "source": [
    "### 8.5 Adjust the Model"
   ]
  },
  {
   "cell_type": "code",
   "execution_count": 55,
   "metadata": {},
   "outputs": [
    {
     "name": "stdout",
     "output_type": "stream",
     "text": [
      "Root Mean Squared Error (RMSE) on test data = 2.75374563328582\n"
     ]
    },
    {
     "data": {
      "image/png": "[encoded data removed]",
      "text/plain": [
       "<Figure size 600x400 with 1 Axes>"
      ]
     },
     "metadata": {},
     "output_type": "display_data"
    }
   ],
   "source": [
    "from pyspark.ml.feature import StandardScaler, PolynomialExpansion\n",
    "from pyspark.ml.regression import LinearRegression\n",
    "from pyspark.ml.tuning import CrossValidator, ParamGridBuilder\n",
    "from pyspark.ml.evaluation import RegressionEvaluator\n",
    "\n",
    "# 1. Feature Engineering\n",
    "\n",
    "# Feature Scaling: Standardization\n",
    "scaler = StandardScaler(inputCol=\"features\", outputCol=\"scaledFeatures\", withStd=True, withMean=False)\n",
    "scalerModel = scaler.fit(output)\n",
    "scaledData = scalerModel.transform(output)\n",
    "\n",
    "# Feature Transformation: Polynomial Expansion to capture non-linear relationships\n",
    "polyExpansion = PolynomialExpansion(degree=2, inputCol=\"scaledFeatures\", outputCol=\"polyFeatures\")\n",
    "polyData = polyExpansion.transform(scaledData)\n",
    "\n",
    "# 2. Model Selection and Tuning\n",
    "\n",
    "# Linear Regression with L1 and L2 regularization (ElasticNet)\n",
    "lr = LinearRegression(featuresCol=\"polyFeatures\", labelCol='Cases - cumulative total', elasticNetParam=0.8)\n",
    "\n",
    "# Define the parameter grid for hyperparameter tuning\n",
    "paramGrid = ParamGridBuilder() \\\n",
    "    .addGrid(lr.regParam, [0.01, 0.1, 1.0]) \\\n",
    "    .addGrid(lr.elasticNetParam, [0.0, 0.5, 1.0]) \\\n",
    "    .build()\n",
    "\n",
    "# Cross-validation for model selection\n",
    "crossval = CrossValidator(estimator=lr,\n",
    "                          estimatorParamMaps=paramGrid,\n",
    "                          evaluator=RegressionEvaluator(labelCol=\"Cases - cumulative total\"),\n",
    "                          numFolds=3)\n",
    "\n",
    "# Splitting the data into training and testing sets\n",
    "train_data, test_data = polyData.randomSplit([0.7, 0.3])\n",
    "\n",
    "# Train the model\n",
    "cvModel = crossval.fit(train_data)\n",
    "\n",
    "# Make predictions on test data\n",
    "predictions = cvModel.transform(test_data)\n",
    "\n",
    "# Model Evaluation\n",
    "evaluator = RegressionEvaluator(labelCol=\"Cases - cumulative total\", predictionCol=\"prediction\", metricName=\"rmse\")\n",
    "rmse = evaluator.evaluate(predictions)\n",
    "print(f\"Root Mean Squared Error (RMSE) on test data = {rmse}\")\n",
    "\n",
    "# Plotting the actual vs predicted values\n",
    "actual = predictions.select(\"Cases - cumulative total\").rdd.flatMap(lambda x: x).collect()\n",
    "predicted = predictions.select(\"prediction\").rdd.flatMap(lambda x: x).collect()\n",
    "\n",
    "plt.scatter(actual, predicted, color='blue')\n",
    "plt.plot([min(actual), max(actual)], [min(actual), max(actual)], color='red')  # regression line\n",
    "plt.xlabel('Actual Cases - cumulative total')\n",
    "plt.ylabel('Predicted Cases - cumulative total')\n",
    "plt.title('Optimized Linear Regression Results')\n",
    "plt.show()\n"
   ]
  },
  {
   "cell_type": "code",
   "execution_count": null,
   "metadata": {},
   "outputs": [],
   "source": []
  }
 ],
 "metadata": {
  "anaconda-cloud": {},
  "kernelspec": {
   "display_name": "Python 3 (ipykernel)",
   "language": "python",
   "name": "python3"
  },
  "language_info": {
   "codemirror_mode": {
    "name": "ipython",
    "version": 3
   },
   "file_extension": ".py",
   "mimetype": "text/x-python",
   "name": "python",
   "nbconvert_exporter": "python",
   "pygments_lexer": "ipython3",
   "version": "3.10.12"
  }
 },
 "nbformat": 4,
 "nbformat_minor": 1
}
